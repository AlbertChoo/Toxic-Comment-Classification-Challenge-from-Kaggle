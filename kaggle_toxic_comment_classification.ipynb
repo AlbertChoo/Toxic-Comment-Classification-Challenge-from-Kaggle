{
  "cells": [
    {
      "cell_type": "markdown",
      "metadata": {
        "id": "JNQSZwj4ScU-"
      },
      "source": [
        "# Toxic Comment Classification Challenge\n",
        "- 6 classes of toxic\n",
        "- Create a prediction model which predict probs of toxicity for each comment\n"
      ]
    },
    {
      "cell_type": "markdown",
      "metadata": {
        "id": "e4i71VCFS18c"
      },
      "source": [
        "# 0. Check Version"
      ]
    },
    {
      "cell_type": "markdown",
      "metadata": {
        "id": "wpvvSOipTNF3"
      },
      "source": [
        "## Package Version and datetime last run"
      ]
    },
    {
      "cell_type": "code",
      "execution_count": 1,
      "metadata": {
        "colab": {
          "base_uri": "https://localhost:8080/"
        },
        "id": "9aAJGI384ogJ",
        "outputId": "6f5549cc-f1be-4af0-9c44-b4a24779a309"
      },
      "outputs": [],
      "source": [
        "# !pip install tensorflow==2.14.0\n",
        "# !pip install tensorflow_hub==0.15.0"
      ]
    },
    {
      "cell_type": "code",
      "execution_count": 2,
      "metadata": {
        "colab": {
          "base_uri": "https://localhost:8080/"
        },
        "id": "C9T62cDnSZeD",
        "outputId": "9d3ba846-066a-4446-c042-ec5891dc657d"
      },
      "outputs": [
        {
          "name": "stdout",
          "output_type": "stream",
          "text": [
            "Datetime last run (end-to-end): 2024-09-12 12:08:38.741579\n",
            "2.14.0\n",
            "0.15.0\n"
          ]
        }
      ],
      "source": [
        "import datetime\n",
        "print(f'Datetime last run (end-to-end): {datetime.datetime.now()}')\n",
        "\n",
        "import tensorflow as tf\n",
        "import tensorflow_hub as hub\n",
        "print(tf.__version__)\n",
        "print(hub.__version__)"
      ]
    },
    {
      "cell_type": "markdown",
      "metadata": {
        "id": "0LBZAIjbTGng"
      },
      "source": [
        "## Import Helper Functions and Dataset\n",
        "- Dataset imported from local disk"
      ]
    },
    {
      "cell_type": "code",
      "execution_count": 1,
      "metadata": {
        "id": "Re3NL0b5TCsr"
      },
      "outputs": [],
      "source": [
        "from helper_functions import create_tensorboard_callback, plot_loss_curves, compare_historys, calculate_results, compare_baseline_to_new_results\n",
        "\n",
        "SAVE_DIR = 'model_logs'"
      ]
    },
    {
      "cell_type": "markdown",
      "metadata": {
        "id": "XcifoN-EVWYp"
      },
      "source": [
        "# 1. Visualize Txt Data"
      ]
    },
    {
      "cell_type": "markdown",
      "metadata": {
        "id": "nCYrSjXlVYh_"
      },
      "source": [
        "## 1.1 DataFrame"
      ]
    },
    {
      "cell_type": "code",
      "execution_count": 4,
      "metadata": {
        "colab": {
          "base_uri": "https://localhost:8080/"
        },
        "id": "8GOKxAAJVX87",
        "outputId": "5747dca0-8963-4032-9512-7acc8e461cb1"
      },
      "outputs": [
        {
          "data": {
            "text/plain": [
              "(                 id                                       comment_text  toxic  \\\n",
              " 0  0000997932d777bf  Explanation\\nWhy the edits made under my usern...      0   \n",
              " 1  000103f0d9cfb60f  D'aww! He matches this background colour I'm s...      0   \n",
              " 2  000113f07ec002fd  Hey man, I'm really not trying to edit war. It...      0   \n",
              " 3  0001b41b1c6bb37e  \"\\nMore\\nI can't make any real suggestions on ...      0   \n",
              " 4  0001d958c54c6e35  You, sir, are my hero. Any chance you remember...      0   \n",
              " \n",
              "    severe_toxic  obscene  threat  insult  identity_hate  \n",
              " 0             0        0       0       0              0  \n",
              " 1             0        0       0       0              0  \n",
              " 2             0        0       0       0              0  \n",
              " 3             0        0       0       0              0  \n",
              " 4             0        0       0       0              0  ,\n",
              "                  id                                       comment_text\n",
              " 0  00001cee341fdb12  Yo bitch Ja Rule is more succesful then you'll...\n",
              " 1  0000247867823ef7  == From RfC == \\n\\n The title is fine as it is...\n",
              " 2  00013b17ad220c46  \" \\n\\n == Sources == \\n\\n * Zawe Ashton on Lap...\n",
              " 3  00017563c3f7919a  :If you have a look back at the source, the in...\n",
              " 4  00017695ad8997eb          I don't anonymously edit articles at all.)"
            ]
          },
          "execution_count": 4,
          "metadata": {},
          "output_type": "execute_result"
        }
      ],
      "source": [
        "import pandas as pd\n",
        "train_df = pd.read_csv('train.csv')\n",
        "test_df = pd.read_csv('test.csv')\n",
        "train_df.head(), test_df.head()"
      ]
    },
    {
      "cell_type": "code",
      "execution_count": 5,
      "metadata": {},
      "outputs": [
        {
          "name": "stdout",
          "output_type": "stream",
          "text": [
            "Total multi-label samples: 9865\n",
            "Total single-label samples: 149706\n"
          ]
        }
      ],
      "source": [
        "# List the columns\n",
        "target_cols = ['toxic', 'severe_toxic', 'obscene', 'threat', 'insult', 'identity_hate']\n",
        "\n",
        "# Check if any row has more than one label as 1\n",
        "train_df_copy = train_df.copy()\n",
        "train_df_copy['multi_label_count'] = train_df[target_cols].sum(axis=1)\n",
        "multi_label_samples = train_df_copy[train_df_copy['multi_label_count'] > 1]\n",
        "\n",
        "print(f\"Total multi-label samples: {len(multi_label_samples)}\")\n",
        "print(f\"Total single-label samples: {len(train_df_copy) - len(multi_label_samples)}\")"
      ]
    },
    {
      "cell_type": "markdown",
      "metadata": {},
      "source": [
        "So it is a multi-label problem (Comments can be labeled as multiple types of toxic)"
      ]
    },
    {
      "cell_type": "markdown",
      "metadata": {
        "id": "NQKnAvZ-WCE5"
      },
      "source": [
        "## 1.2 Shuffle"
      ]
    },
    {
      "cell_type": "code",
      "execution_count": 6,
      "metadata": {
        "id": "Xo0GSa8qVgoI"
      },
      "outputs": [],
      "source": [
        "train_df_shuffled = train_df.sample(frac=1, random_state=42)"
      ]
    },
    {
      "cell_type": "markdown",
      "metadata": {
        "id": "bxiFuX0UXi9x"
      },
      "source": [
        "## 1.3 `value_counts`"
      ]
    },
    {
      "cell_type": "code",
      "execution_count": 7,
      "metadata": {
        "colab": {
          "base_uri": "https://localhost:8080/"
        },
        "id": "HqQ2LpToXSOc",
        "outputId": "e9f84376-faea-4917-eceb-a525d38d1dad"
      },
      "outputs": [
        {
          "name": "stdout",
          "output_type": "stream",
          "text": [
            "\n",
            "Value counts for column 'toxic':\n",
            "\n",
            "toxic\n",
            "0    144277\n",
            "1     15294\n",
            "Name: count, dtype: int64\n",
            "\n",
            "Value counts for column 'severe_toxic':\n",
            "\n",
            "severe_toxic\n",
            "0    157976\n",
            "1      1595\n",
            "Name: count, dtype: int64\n",
            "\n",
            "Value counts for column 'obscene':\n",
            "\n",
            "obscene\n",
            "0    151122\n",
            "1      8449\n",
            "Name: count, dtype: int64\n",
            "\n",
            "Value counts for column 'threat':\n",
            "\n",
            "threat\n",
            "0    159093\n",
            "1       478\n",
            "Name: count, dtype: int64\n",
            "\n",
            "Value counts for column 'insult':\n",
            "\n",
            "insult\n",
            "0    151694\n",
            "1      7877\n",
            "Name: count, dtype: int64\n",
            "\n",
            "Value counts for column 'identity_hate':\n",
            "\n",
            "identity_hate\n",
            "0    158166\n",
            "1      1405\n",
            "Name: count, dtype: int64\n"
          ]
        }
      ],
      "source": [
        "columns_to_count = train_df.drop(['id', 'comment_text'], axis=1)\n",
        "\n",
        "for column in columns_to_count:\n",
        "    value_counts = columns_to_count[column].value_counts()\n",
        "    print(f\"\\nValue counts for column '{column}':\\n\")\n",
        "    print(value_counts)"
      ]
    },
    {
      "cell_type": "code",
      "execution_count": 8,
      "metadata": {
        "colab": {
          "base_uri": "https://localhost:8080/"
        },
        "id": "yJGWSH8SXoLZ",
        "outputId": "19c8ce77-b2cf-4e29-db05-30d028aa53eb"
      },
      "outputs": [
        {
          "name": "stdout",
          "output_type": "stream",
          "text": [
            "Training: 159571\n",
            "Test: 153164\n",
            "Total: 312735\n"
          ]
        }
      ],
      "source": [
        "print(f'Training: {len(train_df_shuffled)}')\n",
        "print(f'Test: {len(test_df)}')\n",
        "print(f'Total: {len(train_df_shuffled) + len(test_df)}')"
      ]
    },
    {
      "cell_type": "markdown",
      "metadata": {
        "id": "dwgRxkM7ZBw3"
      },
      "source": [
        "## 1.4 Split train validation"
      ]
    },
    {
      "cell_type": "code",
      "execution_count": 9,
      "metadata": {
        "colab": {
          "base_uri": "https://localhost:8080/"
        },
        "id": "OT6xFoDzY1VG",
        "outputId": "8e1fcbee-7a24-4371-aad4-b571e255c0df"
      },
      "outputs": [
        {
          "data": {
            "text/plain": [
              "(143613, 143613, 15958, 15958)"
            ]
          },
          "execution_count": 9,
          "metadata": {},
          "output_type": "execute_result"
        }
      ],
      "source": [
        "from sklearn.model_selection import train_test_split\n",
        "train_comment, val_comment, train_labels, val_labels = train_test_split(train_df_shuffled['comment_text'].to_numpy(),\n",
        "                                                                        train_df_shuffled.drop(['id', 'comment_text'], axis=1).to_numpy(),\n",
        "                                                                        test_size=0.1,\n",
        "                                                                        random_state=42)\n",
        "len(train_comment), len(train_labels), len(val_comment), len(val_labels)"
      ]
    },
    {
      "cell_type": "code",
      "execution_count": 10,
      "metadata": {
        "colab": {
          "base_uri": "https://localhost:8080/"
        },
        "id": "ZyK7Px1nZUty",
        "outputId": "2609aaa7-6e38-4b34-8df2-19a74fdaadc2"
      },
      "outputs": [
        {
          "data": {
            "text/plain": [
              "(array(['\"\\n\\nDanilovic\\nAlright, we\\'ll stay away from value-judgement, although when you\\'ve got a documented rap sheet as long as Danilovic\\'s, \"\"surly\"\" is almost a compliment. \\nYes, Blic is a reliable source. It\\'s one of the high-circulation dailies in Serbia. Yes, it\\'s a middle-market tabloid, but it doesn\\'t invent stories. It\\'s very similar to Britain\\'s Daily Mail. Plus the case of Danilovic beating up referee Juras is well-documented in Serbian media as well as the resulting sanctions, both basketball-related and civic.  \"',\n",
              "        '\"\\n\\n Jeepers  \\nI just came looking for info on Madame Sosostris and I found this preening custerfluck instead. I thought I remembered the character from a modern opera called \"\"A Midsummer Marriage\"\", and then discovered the name was most likely inspired by T.S. Eliot\\'s poem, \"\"The Wasteland\"\", which, in turn, was inspred by Huxley?  Edit away. I just thought that if somebody came to this page it might be nice if they actually found some info on Madame Sosostris. \\n\\nAnd I hope you get over your Ashlee Simpson addiction. Truly, man, she\\'s not worth it.\"'],\n",
              "       dtype=object),\n",
              " array([[0, 0, 0, 0, 0, 0],\n",
              "        [0, 0, 0, 0, 0, 0],\n",
              "        [0, 0, 0, 0, 0, 0],\n",
              "        [0, 0, 0, 0, 0, 0],\n",
              "        [0, 0, 0, 0, 0, 0]], dtype=int64))"
            ]
          },
          "execution_count": 10,
          "metadata": {},
          "output_type": "execute_result"
        }
      ],
      "source": [
        "train_comment[:2], train_labels[:5]"
      ]
    },
    {
      "cell_type": "markdown",
      "metadata": {
        "id": "EKNsI1LGZ25T"
      },
      "source": [
        "# 2. Convert texts to numbers"
      ]
    },
    {
      "cell_type": "markdown",
      "metadata": {
        "id": "Y8X2-GGmZ6Rx"
      },
      "source": [
        "## 2.1 Tokenization\n",
        "### 2.1.1. `max_length` - Find avg num of tokens in training"
      ]
    },
    {
      "cell_type": "code",
      "execution_count": 10,
      "metadata": {
        "colab": {
          "base_uri": "https://localhost:8080/"
        },
        "id": "Xpx-U8eGZayn",
        "outputId": "3b9a345f-07ba-45cc-b0fd-e56a5ab89e82"
      },
      "outputs": [
        {
          "data": {
            "text/plain": [
              "(67.33298517543676, 230, 1411)"
            ]
          },
          "execution_count": 10,
          "metadata": {},
          "output_type": "execute_result"
        }
      ],
      "source": [
        "import numpy as np\n",
        "comment_length = [len(i.split()) for i in train_comment]\n",
        "np.mean(comment_length), int(np.percentile(comment_length, 95)), max(comment_length)"
      ]
    },
    {
      "cell_type": "code",
      "execution_count": 11,
      "metadata": {
        "colab": {
          "base_uri": "https://localhost:8080/",
          "height": 517
        },
        "id": "irG51yYdcc3T",
        "outputId": "7754d0bb-a6c9-4cbe-86c1-f664e9c76b2e"
      },
      "outputs": [
        {
          "data": {
            "text/plain": [
              "(array([1.32448e+05, 7.85500e+03, 1.63700e+03, 9.57000e+02, 6.29000e+02,\n",
              "        6.40000e+01, 1.20000e+01, 1.10000e+01]),\n",
              " array([1.00000e+00, 1.77250e+02, 3.53500e+02, 5.29750e+02, 7.06000e+02,\n",
              "        8.82250e+02, 1.05850e+03, 1.23475e+03, 1.41100e+03]),\n",
              " <BarContainer object of 8 artists>)"
            ]
          },
          "execution_count": 11,
          "metadata": {},
          "output_type": "execute_result"
        },
        {
          "data": {
            "image/png": "[encoded data removed]",
            "text/plain": [
              "<Figure size 640x480 with 1 Axes>"
            ]
          },
          "metadata": {},
          "output_type": "display_data"
        }
      ],
      "source": [
        "import matplotlib.pyplot as plt\n",
        "plt.hist(comment_length, bins=8)"
      ]
    },
    {
      "cell_type": "markdown",
      "metadata": {
        "id": "or-sCn6sctYJ"
      },
      "source": [
        "Sum: `max_length` for train_comment should be 230, now go for `max_vocab_length`\n",
        "## 2.1.2. `max_vocab_length`"
      ]
    },
    {
      "cell_type": "code",
      "execution_count": 12,
      "metadata": {
        "colab": {
          "base_uri": "https://localhost:8080/"
        },
        "id": "drxHWI2rgNHr",
        "outputId": "38dbcc92-af69-4eb1-cbdb-f20941a0dd6c"
      },
      "outputs": [
        {
          "name": "stderr",
          "output_type": "stream",
          "text": [
            "[nltk_data] Downloading package punkt to\n",
            "[nltk_data]     C:\\Users\\ILLEGEAR\\AppData\\Roaming\\nltk_data...\n",
            "[nltk_data]   Package punkt is already up-to-date!\n",
            "[nltk_data] Downloading package punkt_tab to\n",
            "[nltk_data]     C:\\Users\\ILLEGEAR\\AppData\\Roaming\\nltk_data...\n",
            "[nltk_data]   Package punkt_tab is already up-to-date!\n"
          ]
        },
        {
          "data": {
            "text/plain": [
              "True"
            ]
          },
          "execution_count": 12,
          "metadata": {},
          "output_type": "execute_result"
        }
      ],
      "source": [
        "import nltk\n",
        "nltk.download('punkt')\n",
        "nltk.download('punkt_tab')"
      ]
    },
    {
      "cell_type": "code",
      "execution_count": 13,
      "metadata": {
        "colab": {
          "base_uri": "https://localhost:8080/"
        },
        "id": "4P_Qv-BUc_4R",
        "outputId": "96894a53-49b6-4629-80db-b1f819149a62"
      },
      "outputs": [
        {
          "name": "stdout",
          "output_type": "stream",
          "text": [
            "Max vocabulary length: 13\n"
          ]
        }
      ],
      "source": [
        "import nltk\n",
        "from nltk.tokenize import word_tokenize\n",
        "\n",
        "# Sample text\n",
        "text = \"This is a sample text for understanding max vocabulary length.\"\n",
        "\n",
        "# Tokenize the text\n",
        "tokens = word_tokenize(text)\n",
        "\n",
        "# Create a vocabulary\n",
        "vocabulary = set(tokens)\n",
        "\n",
        "# Find the max vocabulary length\n",
        "print(\"Max vocabulary length:\", len(max(vocabulary, key=len)))"
      ]
    },
    {
      "cell_type": "code",
      "execution_count": 14,
      "metadata": {
        "colab": {
          "base_uri": "https://localhost:8080/"
        },
        "id": "EHh9hzincs1F",
        "outputId": "5529374e-5b3e-49a4-f38d-d3eae1e8f528"
      },
      "outputs": [
        {
          "name": "stdout",
          "output_type": "stream",
          "text": [
            "Max vocabulary length: 4958\n"
          ]
        }
      ],
      "source": [
        "vocabulary = set(word.lower() for comment in train_comment for word in comment.split())\n",
        "\n",
        "max_vocab_length = len(max(vocabulary, key=len))\n",
        "print(\"Max vocabulary length:\", max_vocab_length)"
      ]
    },
    {
      "cell_type": "markdown",
      "metadata": {
        "id": "m9EeOoF8di8P"
      },
      "source": [
        "## 2.2 Create Text Vectorizer"
      ]
    },
    {
      "cell_type": "code",
      "execution_count": 15,
      "metadata": {
        "id": "hrpAW1-vdXR3"
      },
      "outputs": [],
      "source": [
        "max_length = 230\n",
        "max_vocab_length = 10000\n",
        "\n",
        "from tensorflow.keras.layers import TextVectorization\n",
        "import tensorflow as tf\n",
        "\n",
        "text_vectorizer = tf.keras.layers.TextVectorization(max_tokens=max_vocab_length,\n",
        "                                                    standardize='lower_and_strip_punctuation',\n",
        "                                                    output_sequence_length=max_length,\n",
        "                                                    output_mode='int')"
      ]
    },
    {
      "cell_type": "code",
      "execution_count": 16,
      "metadata": {
        "id": "xzzBvxIBegjx"
      },
      "outputs": [],
      "source": [
        "# Adapt it\n",
        "text_vectorizer.adapt(train_comment)"
      ]
    },
    {
      "cell_type": "code",
      "execution_count": 17,
      "metadata": {
        "colab": {
          "base_uri": "https://localhost:8080/"
        },
        "id": "4pNuvzi4dyxf",
        "outputId": "794b7a86-b4ee-443f-fcd7-9089e455607f"
      },
      "outputs": [
        {
          "name": "stdout",
          "output_type": "stream",
          "text": [
            "Original text:\n",
            "\"\n",
            "Good start, but most people will expect at least six months actively editing and 2,000 edits or so before considering supporting a candidate. Not that those people are me, but that's a de facto standard. — (talk) \"      \n",
            "\n",
            "Vectorized version:\n"
          ]
        },
        {
          "data": {
            "text/plain": [
              "<tf.Tensor: shape=(1, 230), dtype=int64, numpy=\n",
              "array([[  98,  432,   27,  133,   76,   44, 1101,   34,  295, 1803,  767,\n",
              "        3921,  116,    5, 2009,  123,   26,   37,  144, 1230, 1700,    6,\n",
              "        2600,   15,   10,  141,   76,   20,   36,   27,  176,    6,  928,\n",
              "        5236,  800,    1,    0,    0,    0,    0,    0,    0,    0,    0,\n",
              "           0,    0,    0,    0,    0,    0,    0,    0,    0,    0,    0,\n",
              "           0,    0,    0,    0,    0,    0,    0,    0,    0,    0,    0,\n",
              "           0,    0,    0,    0,    0,    0,    0,    0,    0,    0,    0,\n",
              "           0,    0,    0,    0,    0,    0,    0,    0,    0,    0,    0,\n",
              "           0,    0,    0,    0,    0,    0,    0,    0,    0,    0,    0,\n",
              "           0,    0,    0,    0,    0,    0,    0,    0,    0,    0,    0,\n",
              "           0,    0,    0,    0,    0,    0,    0,    0,    0,    0,    0,\n",
              "           0,    0,    0,    0,    0,    0,    0,    0,    0,    0,    0,\n",
              "           0,    0,    0,    0,    0,    0,    0,    0,    0,    0,    0,\n",
              "           0,    0,    0,    0,    0,    0,    0,    0,    0,    0,    0,\n",
              "           0,    0,    0,    0,    0,    0,    0,    0,    0,    0,    0,\n",
              "           0,    0,    0,    0,    0,    0,    0,    0,    0,    0,    0,\n",
              "           0,    0,    0,    0,    0,    0,    0,    0,    0,    0,    0,\n",
              "           0,    0,    0,    0,    0,    0,    0,    0,    0,    0,    0,\n",
              "           0,    0,    0,    0,    0,    0,    0,    0,    0,    0,    0,\n",
              "           0,    0,    0,    0,    0,    0,    0,    0,    0,    0,    0,\n",
              "           0,    0,    0,    0,    0,    0,    0,    0,    0,    0]],\n",
              "      dtype=int64)>"
            ]
          },
          "execution_count": 17,
          "metadata": {},
          "output_type": "execute_result"
        }
      ],
      "source": [
        "import random\n",
        "random_comment = random.choice(train_comment)\n",
        "print(f'Original text:\\n{random_comment}\\\n",
        "      \\n\\nVectorized version:')\n",
        "text_vectorizer([random_comment])"
      ]
    },
    {
      "cell_type": "code",
      "execution_count": 18,
      "metadata": {
        "colab": {
          "base_uri": "https://localhost:8080/"
        },
        "id": "UpEuHOFCd-2Y",
        "outputId": "cff26612-de03-46f0-8611-aa105d61eae1"
      },
      "outputs": [
        {
          "name": "stdout",
          "output_type": "stream",
          "text": [
            "Number of words in vocabulary: 10000\n",
            "Most common words in the vocabulary: ['', '[UNK]', 'the', 'to', 'of']\n",
            "Least common words in the vocabulary: ['seeds', 'seed', 'safer', 'rw', 'rounds']\n"
          ]
        }
      ],
      "source": [
        "# How many words in our training vocabulary?\n",
        "x = text_vectorizer.get_vocabulary()\n",
        "print(f\"Number of words in vocabulary: {len(x)}\"),\n",
        "print(f\"Most common words in the vocabulary: {x[:5]}\")\n",
        "print(f\"Least common words in the vocabulary: {x[-5:]}\")"
      ]
    },
    {
      "cell_type": "code",
      "execution_count": 19,
      "metadata": {
        "colab": {
          "base_uri": "https://localhost:8080/"
        },
        "id": "nDzUOAHke0KW",
        "outputId": "f3a88726-9e6e-4619-b6d7-d3a4ff4192c4"
      },
      "outputs": [
        {
          "data": {
            "text/plain": [
              "{'name': 'text_vectorization',\n",
              " 'trainable': True,\n",
              " 'dtype': 'string',\n",
              " 'batch_input_shape': (None,),\n",
              " 'max_tokens': 10000,\n",
              " 'standardize': 'lower_and_strip_punctuation',\n",
              " 'split': 'whitespace',\n",
              " 'ngrams': None,\n",
              " 'output_mode': 'int',\n",
              " 'output_sequence_length': 230,\n",
              " 'pad_to_max_tokens': False,\n",
              " 'sparse': False,\n",
              " 'ragged': False,\n",
              " 'vocabulary': None,\n",
              " 'idf_weights': None,\n",
              " 'encoding': 'utf-8',\n",
              " 'vocabulary_size': 10000}"
            ]
          },
          "execution_count": 19,
          "metadata": {},
          "output_type": "execute_result"
        }
      ],
      "source": [
        "text_vectorizer.get_config()"
      ]
    },
    {
      "cell_type": "markdown",
      "metadata": {
        "id": "1YnJHsOGgJtn"
      },
      "source": [
        "## 2.3 Create Embedding"
      ]
    },
    {
      "cell_type": "code",
      "execution_count": 20,
      "metadata": {
        "colab": {
          "base_uri": "https://localhost:8080/"
        },
        "id": "SogJEuLKfFfM",
        "outputId": "d9bf0769-f38f-4a47-fd21-b0cd1a8b5ef3"
      },
      "outputs": [
        {
          "data": {
            "text/plain": [
              "<keras.src.layers.core.embedding.Embedding at 0x1ec2f607940>"
            ]
          },
          "execution_count": 20,
          "metadata": {},
          "output_type": "execute_result"
        }
      ],
      "source": [
        "tf.random.set_seed(42)\n",
        "from tensorflow.keras import layers\n",
        "\n",
        "embedding = layers.Embedding(input_dim=max_vocab_length,\n",
        "                             output_dim=128,\n",
        "                             mask_zero=True,\n",
        "                             embeddings_initializer='uniform',\n",
        "                             input_length=max_length,\n",
        "                             name='embedding_1')\n",
        "embedding"
      ]
    },
    {
      "cell_type": "code",
      "execution_count": 21,
      "metadata": {
        "colab": {
          "base_uri": "https://localhost:8080/"
        },
        "id": "Zn2H9hR8hDEf",
        "outputId": "e4f31c9c-2739-4443-82f6-b49a8d603fa9"
      },
      "outputs": [
        {
          "name": "stdout",
          "output_type": "stream",
          "text": [
            "Sentence before vectorization:\n",
            "\"\n",
            "Good start, but most people will expect at least six months actively editing and 2,000 edits or so before considering supporting a candidate. Not that those people are me, but that's a de facto standard. — (talk) \"\n",
            "\n",
            "Sentence after vectorization (before embedding):\n",
            "[[  98  432   27  133   76   44 1101   34  295 1803  767 3921  116    5\n",
            "  2009  123   26   37  144 1230 1700    6 2600   15   10  141   76   20\n",
            "    36   27  176    6  928 5236  800    1    0    0    0    0    0    0\n",
            "     0    0    0    0    0    0    0    0    0    0    0    0    0    0\n",
            "     0    0    0    0    0    0    0    0    0    0    0    0    0    0\n",
            "     0    0    0    0    0    0    0    0    0    0    0    0    0    0\n",
            "     0    0    0    0    0    0    0    0    0    0    0    0    0    0\n",
            "     0    0    0    0    0    0    0    0    0    0    0    0    0    0\n",
            "     0    0    0    0    0    0    0    0    0    0    0    0    0    0\n",
            "     0    0    0    0    0    0    0    0    0    0    0    0    0    0\n",
            "     0    0    0    0    0    0    0    0    0    0    0    0    0    0\n",
            "     0    0    0    0    0    0    0    0    0    0    0    0    0    0\n",
            "     0    0    0    0    0    0    0    0    0    0    0    0    0    0\n",
            "     0    0    0    0    0    0    0    0    0    0    0    0    0    0\n",
            "     0    0    0    0    0    0    0    0    0    0    0    0    0    0\n",
            "     0    0    0    0    0    0    0    0    0    0    0    0    0    0\n",
            "     0    0    0    0    0    0]]\n",
            "\n",
            "Sentence after embedding:\n",
            "[[[ 0.03665829 -0.01243868  0.00891172 ... -0.02412651  0.00298679\n",
            "    0.0373636 ]\n",
            "  [ 0.04935218  0.02474154  0.03534669 ...  0.03243654  0.04783771\n",
            "    0.03471282]\n",
            "  [ 0.01769337 -0.04538074  0.00700014 ... -0.02586523 -0.04413493\n",
            "   -0.03096408]\n",
            "  ...\n",
            "  [-0.03193214 -0.01480433 -0.03586396 ... -0.01475994 -0.02799249\n",
            "    0.00087941]\n",
            "  [-0.03193214 -0.01480433 -0.03586396 ... -0.01475994 -0.02799249\n",
            "    0.00087941]\n",
            "  [-0.03193214 -0.01480433 -0.03586396 ... -0.01475994 -0.02799249\n",
            "    0.00087941]]]\n",
            "\n",
            "Embedded sentence shape: (1, 230, 128)\n"
          ]
        }
      ],
      "source": [
        "# Show example embedding\n",
        "print(f\"Sentence before vectorization:\\n{random_comment}\\n\")\n",
        "vectorized_sentence = text_vectorizer([random_comment])\n",
        "print(f\"Sentence after vectorization (before embedding):\\n{vectorized_sentence}\\n\")\n",
        "embedded_sentence = embedding(vectorized_sentence)\n",
        "print(f\"Sentence after embedding:\\n{embedded_sentence}\\n\")\n",
        "print(f\"Embedded sentence shape: {embedded_sentence.shape}\")"
      ]
    },
    {
      "cell_type": "markdown",
      "metadata": {
        "id": "1lxT82aIhshr"
      },
      "source": [
        "## 2.4 Create datasets\n",
        "- `tf.data`\n",
        "- PrefetchDataset, `batch(), prefetch(), tf.data.AUTOTUNE()`"
      ]
    },
    {
      "cell_type": "code",
      "execution_count": 22,
      "metadata": {
        "colab": {
          "base_uri": "https://localhost:8080/"
        },
        "id": "akQXnK-PhI8L",
        "outputId": "d07af6eb-0ac1-4531-8f52-cb87432632ef"
      },
      "outputs": [
        {
          "data": {
            "text/plain": [
              "<_PrefetchDataset element_spec=(TensorSpec(shape=(None,), dtype=tf.string, name=None), TensorSpec(shape=(None, 6), dtype=tf.int64, name=None))>"
            ]
          },
          "execution_count": 22,
          "metadata": {},
          "output_type": "execute_result"
        }
      ],
      "source": [
        "train_dataset = tf.data.Dataset.from_tensor_slices((train_comment, train_labels)).batch(32).prefetch(tf.data.AUTOTUNE)\n",
        "val_dataset = tf.data.Dataset.from_tensor_slices((val_comment, val_labels)).batch(32).prefetch(tf.data.AUTOTUNE)\n",
        "train_dataset"
      ]
    },
    {
      "cell_type": "markdown",
      "metadata": {
        "id": "p8WkHWQMiGz2"
      },
      "source": [
        "# 3. Build Model"
      ]
    },
    {
      "cell_type": "markdown",
      "metadata": {
        "id": "dRNRVHv5kN50"
      },
      "source": [
        "## 3.1 Baseline 1\n",
        "- Simpler, Efficient, but do not provide insights for each category"
      ]
    },
    {
      "cell_type": "code",
      "execution_count": 31,
      "metadata": {
        "colab": {
          "base_uri": "https://localhost:8080/"
        },
        "id": "OjwJJJ5qh93A",
        "outputId": "e265077e-dddf-48bd-cb24-ce922e96ca1a"
      },
      "outputs": [
        {
          "name": "stdout",
          "output_type": "stream",
          "text": [
            "Model 0 score: 0.8991101641809751\n"
          ]
        }
      ],
      "source": [
        "from sklearn.feature_extraction.text import TfidfVectorizer\n",
        "from sklearn.multiclass import OneVsRestClassifier\n",
        "from sklearn.naive_bayes import MultinomialNB\n",
        "from sklearn.pipeline import Pipeline\n",
        "\n",
        "# Create a OneVsRestClassifier with MultinomialNB as the base estimator\n",
        "model_0 = Pipeline([\n",
        "    ('tfidf', TfidfVectorizer()),\n",
        "    ('clf', OneVsRestClassifier(MultinomialNB()))\n",
        "])\n",
        "\n",
        "model_0.fit(train_comment, train_labels)\n",
        "\n",
        "baseline_score = model_0.score(val_comment, val_labels)\n",
        "print(f\"Model 0 score: {baseline_score}\")"
      ]
    },
    {
      "cell_type": "code",
      "execution_count": 32,
      "metadata": {
        "colab": {
          "base_uri": "https://localhost:8080/"
        },
        "id": "6LPtcGky2n8I",
        "outputId": "a4997705-508f-4608-fae7-88189aeb9a73"
      },
      "outputs": [
        {
          "data": {
            "text/plain": [
              "array([[0, 0, 0, 0, 0, 0],\n",
              "       [0, 0, 0, 0, 0, 0],\n",
              "       [0, 0, 0, 0, 0, 0],\n",
              "       [0, 0, 0, 0, 0, 0],\n",
              "       [0, 0, 0, 0, 0, 0]])"
            ]
          },
          "execution_count": 32,
          "metadata": {},
          "output_type": "execute_result"
        }
      ],
      "source": [
        "model_0_preds = model_0.predict(val_comment)\n",
        "model_0_preds[:5]"
      ]
    },
    {
      "cell_type": "code",
      "execution_count": 33,
      "metadata": {
        "colab": {
          "base_uri": "https://localhost:8080/"
        },
        "id": "ynxPXz082vjO",
        "outputId": "aaf86245-65f2-4cab-e984-6d76ccf59eb9"
      },
      "outputs": [
        {
          "name": "stderr",
          "output_type": "stream",
          "text": [
            "c:\\Users\\ILLEGEAR\\anaconda3\\envs\\py3900\\lib\\site-packages\\sklearn\\metrics\\_classification.py:1531: UndefinedMetricWarning: Precision is ill-defined and being set to 0.0 in labels with no predicted samples. Use `zero_division` parameter to control this behavior.\n",
            "  _warn_prf(average, modifier, f\"{metric.capitalize()} is\", len(result))\n"
          ]
        },
        {
          "data": {
            "text/plain": [
              "{'accuracy': 89.91101641809752,\n",
              " 'precision': 0.8798293651918689,\n",
              " 'recall': 0.10532244438186426,\n",
              " 'f1': 0.18522543349795792}"
            ]
          },
          "execution_count": 33,
          "metadata": {},
          "output_type": "execute_result"
        }
      ],
      "source": [
        "baseline_results = calculate_results(y_true=val_labels,\n",
        "                                     y_pred=model_0_preds)\n",
        "baseline_results"
      ]
    },
    {
      "cell_type": "markdown",
      "metadata": {
        "id": "1-tszr-pkTNE"
      },
      "source": [
        "## 3.2 Baseline 2\n",
        "- **One-vs-rest** approach allows you to analyze the performance of each category and potentially fine-tune models individually"
      ]
    },
    {
      "cell_type": "code",
      "execution_count": null,
      "metadata": {
        "id": "0FJhRLp0lDVT"
      },
      "outputs": [],
      "source": [
        "type(train_labels)"
      ]
    },
    {
      "cell_type": "code",
      "execution_count": null,
      "metadata": {
        "id": "0eao9Ayzkxhv"
      },
      "outputs": [],
      "source": [
        "import pandas as pd\n",
        "\n",
        "# Convert train_labels back to a DataFrame\n",
        "train_labels1 = pd.DataFrame(train_labels)\n",
        "\n",
        "type(train_labels1)"
      ]
    },
    {
      "cell_type": "code",
      "execution_count": null,
      "metadata": {
        "id": "fhkrMgPbiSJN"
      },
      "outputs": [],
      "source": [
        "from sklearn.feature_extraction.text import TfidfVectorizer\n",
        "from sklearn.naive_bayes import MultinomialNB\n",
        "from sklearn.pipeline import Pipeline\n",
        "from sklearn.model_selection import cross_val_score\n",
        "\n",
        "models = []\n",
        "# Extract category names\n",
        "category_names = list(train_labels1.columns)\n",
        "\n",
        "for i in range(len(category_names)):\n",
        "    # Create a new label array with 1 for the current category and 0 for others\n",
        "    new_labels = train_labels1.iloc[:, i].copy()\n",
        "    new_labels[new_labels != 1] = 0  # Replace non-category values with 0\n",
        "\n",
        "    # Create and fit the model pipeline\n",
        "    model = Pipeline([\n",
        "        ('tfidf', TfidfVectorizer()),\n",
        "        ('clf', MultinomialNB())\n",
        "    ])\n",
        "    model.fit(train_comment, new_labels)\n",
        "    models.append(model)\n",
        "\n",
        "# Evaluate each model using cross-validation (optional)\n",
        "scores = cross_val_score(models[0], train_comment, train_labels1.iloc[:, 0], cv=5)\n",
        "print(f\"Model 0 (toxic) CV score: {scores.mean()}\")\n",
        "\n",
        "# Repeat for other categories and scores"
      ]
    },
    {
      "cell_type": "markdown",
      "metadata": {
        "id": "AcW-M2e03JL-"
      },
      "source": [
        "## 3.3 `Model_1` USE Transfer Learning"
      ]
    },
    {
      "cell_type": "markdown",
      "metadata": {
        "id": "nGeGot1A3sVw"
      },
      "source": [
        "### 3.3.1 Test USE Url"
      ]
    },
    {
      "cell_type": "code",
      "execution_count": null,
      "metadata": {
        "id": "hPx4N0dFkpTl"
      },
      "outputs": [],
      "source": [
        "import tensorflow as tf\n",
        "embed = hub.load(\"https://www.kaggle.com/models/google/universal-sentence-encoder/TensorFlow2/universal-sentence-encoder/2\")\n",
        "sample_sentence = 'There is a flood in my street'\n",
        "embed_samples = embed([sample_sentence,\n",
        "                      \"When you can the universal sentence encoder on a sentence, it turns it into numbers.\"])\n",
        "print(embed_samples[0][:50])"
      ]
    },
    {
      "cell_type": "markdown",
      "metadata": {
        "id": "q2aKgo6r3t5X"
      },
      "source": [
        "### 3.3.2 Build Embedding Layer Using USE"
      ]
    },
    {
      "cell_type": "code",
      "execution_count": null,
      "metadata": {
        "id": "bI6SXSSi3w1p"
      },
      "outputs": [],
      "source": [
        "use_embed_layer = hub.KerasLayer(\"https://www.kaggle.com/models/google/universal-sentence-encoder/TensorFlow2/universal-sentence-encoder/2\",\n",
        "                                 input_shape=[],\n",
        "                                 dtype=tf.string,\n",
        "                                 trainable=False,\n",
        "                                 name='use')"
      ]
    },
    {
      "cell_type": "markdown",
      "metadata": {
        "id": "tHLXKgAP38hV"
      },
      "source": [
        "### 3.3.3 Build Model"
      ]
    },
    {
      "cell_type": "code",
      "execution_count": null,
      "metadata": {
        "id": "jL4ZVcZ537Tb"
      },
      "outputs": [],
      "source": [
        "inputs = layers.Input(shape=(), dtype=tf.string)\n",
        "x = use_embed_layer(inputs)\n",
        "x = layers.Dense(128, activation='relu')(x)\n",
        "outputs = layers.Dense(6, activation='sigmoid')(x)\n",
        "model_1 = tf.keras.Model(inputs, outputs, name='model_1_USE')\n",
        "\n",
        "model_1.compile(loss='binary_crossentropy',\n",
        "                optimizer=tf.keras.optimizers.Adam(),\n",
        "                metrics=['accuracy'])\n",
        "\n",
        "model_1.summary"
      ]
    },
    {
      "cell_type": "code",
      "execution_count": null,
      "metadata": {
        "id": "L_3WmRdJ4F0d"
      },
      "outputs": [],
      "source": [
        "model_1_history = model_1.fit(train_comment,\n",
        "                              train_labels,\n",
        "                              epochs=5,\n",
        "                              validation_data=(val_comment, val_labels),\n",
        "                              callbacks=[create_tensorboard_callback(dir_name='model_logs',\n",
        "                                                                     experiment_name='model_1_USE')])"
      ]
    },
    {
      "cell_type": "code",
      "execution_count": null,
      "metadata": {
        "id": "AqNoowdp7GRy"
      },
      "outputs": [],
      "source": [
        "model_1_preds = model_1.predict(val_comment)\n",
        "model_1_preds"
      ]
    },
    {
      "cell_type": "code",
      "execution_count": null,
      "metadata": {
        "id": "FkuIKTVC7Rzu"
      },
      "outputs": [],
      "source": [
        "model_1_preds_label = tf.argmax(model_1_preds, axis=1)\n",
        "model_1_preds_label"
      ]
    },
    {
      "cell_type": "code",
      "execution_count": null,
      "metadata": {
        "id": "jlJTmOxQ_gB0"
      },
      "outputs": [],
      "source": [
        "val_labels[:5], model_1_preds_label[:5]"
      ]
    },
    {
      "cell_type": "code",
      "execution_count": null,
      "metadata": {
        "id": "kt1hDdUA_tbh"
      },
      "outputs": [],
      "source": [
        "val_labels_tf = tf.convert_to_tensor(val_labels)\n",
        "val_labels_tf[:5]"
      ]
    },
    {
      "cell_type": "code",
      "execution_count": null,
      "metadata": {
        "id": "FTxgOJKk-Pdw"
      },
      "outputs": [],
      "source": [
        "model_1_results = calculate_results(y_true=val_labels_tf,\n",
        "                                    y_pred=model_1_preds)\n",
        "model_1_results"
      ]
    },
    {
      "cell_type": "markdown",
      "metadata": {
        "id": "4CMBJayTUq54"
      },
      "source": [
        "## 3.4 `Model_2`: Conv1D with character embeddings"
      ]
    },
    {
      "cell_type": "markdown",
      "metadata": {
        "id": "LBNyqXUUXXY_"
      },
      "source": [
        "### 3.4.1 Split sentences to characters"
      ]
    },
    {
      "cell_type": "code",
      "execution_count": 34,
      "metadata": {
        "colab": {
          "base_uri": "https://localhost:8080/",
          "height": 174
        },
        "id": "xw0u_60E-bng",
        "outputId": "8805dcef-5970-4839-f45f-4fef56c0bbb5"
      },
      "outputs": [
        {
          "data": {
            "text/plain": [
              "'\"\\n\\n==WP Delinking Dates==\\n\\nCongratulations on being one of the most destuctrive forces on Wikipedia. Your campaign to delink dates ensures that scores of children won\\'t be at all concerned about history. \"'"
            ]
          },
          "execution_count": 34,
          "metadata": {},
          "output_type": "execute_result"
        }
      ],
      "source": [
        "random_comment"
      ]
    },
    {
      "cell_type": "code",
      "execution_count": 35,
      "metadata": {
        "colab": {
          "base_uri": "https://localhost:8080/",
          "height": 209
        },
        "id": "lg6U4-wNXVL0",
        "outputId": "1ed32d74-c988-49a3-d124-b47d1ed83c20"
      },
      "outputs": [
        {
          "data": {
            "text/plain": [
              "'\" \\n \\n = = W P   D e l i n k i n g   D a t e s = = \\n \\n C o n g r a t u l a t i o n s   o n   b e i n g   o n e   o f   t h e   m o s t   d e s t u c t r i v e   f o r c e s   o n   W i k i p e d i a .   Y o u r   c a m p a i g n   t o   d e l i n k   d a t e s   e n s u r e s   t h a t   s c o r e s   o f   c h i l d r e n   w o n \\' t   b e   a t   a l l   c o n c e r n e d   a b o u t   h i s t o r y .   \"'"
            ]
          },
          "execution_count": 35,
          "metadata": {},
          "output_type": "execute_result"
        }
      ],
      "source": [
        "def split_chars(text):\n",
        "  return \" \".join(list(text))\n",
        "\n",
        "split_chars(random_comment)"
      ]
    },
    {
      "cell_type": "markdown",
      "metadata": {
        "id": "b6g7fWBNXra1"
      },
      "source": [
        "### 3.4.2 Create char-lvl datasets by splitting out sequence datasets into characters"
      ]
    },
    {
      "cell_type": "code",
      "execution_count": 36,
      "metadata": {
        "colab": {
          "base_uri": "https://localhost:8080/",
          "height": 192
        },
        "id": "1MW-wrFOXmaM",
        "outputId": "58063374-6223-498c-813b-91db57b97df1"
      },
      "outputs": [
        {
          "data": {
            "text/plain": [
              "'\" \\n \\n D a n i l o v i c \\n A l r i g h t ,   w e \\' l l   s t a y   a w a y   f r o m   v a l u e - j u d g e m e n t ,   a l t h o u g h   w h e n   y o u \\' v e   g o t   a   d o c u m e n t e d   r a p   s h e e t   a s   l o n g   a s   D a n i l o v i c \\' s ,   \" \" s u r l y \" \"   i s   a l m o s t   a   c o m p l i m e n t .   \\n Y e s ,   B l i c   i s   a   r e l i a b l e   s o u r c e .   I t \\' s   o n e   o f   t h e   h i g h - c i r c u l a t i o n   d a i l i e s   i n   S e r b i a .   Y e s ,   i t \\' s   a   m i d d l e - m a r k e t   t a b l o i d ,   b u t   i t   d o e s n \\' t   i n v e n t   s t o r i e s .   I t \\' s   v e r y   s i m i l a r   t o   B r i t a i n \\' s   D a i l y   M a i l .   P l u s   t h e   c a s e   o f   D a n i l o v i c   b e a t i n g   u p   r e f e r e e   J u r a s   i s   w e l l - d o c u m e n t e d   i n   S e r b i a n   m e d i a   a s   w e l l   a s   t h e   r e s u l t i n g   s a n c t i o n s ,   b o t h   b a s k e t b a l l - r e l a t e d   a n d   c i v i c .     \"'"
            ]
          },
          "execution_count": 36,
          "metadata": {},
          "output_type": "execute_result"
        }
      ],
      "source": [
        "train_chars = [split_chars(i) for i in train_comment]\n",
        "val_chars = [split_chars(i) for i in val_comment]\n",
        "train_chars[0]"
      ]
    },
    {
      "cell_type": "code",
      "execution_count": 37,
      "metadata": {
        "colab": {
          "base_uri": "https://localhost:8080/"
        },
        "id": "Z7yymtQyYRnc",
        "outputId": "f5ce29f8-956d-4a78-d7b2-25b1252daabf"
      },
      "outputs": [
        {
          "data": {
            "text/plain": [
              "(787.6917201089038, 2711, 9999)"
            ]
          },
          "execution_count": 37,
          "metadata": {},
          "output_type": "execute_result"
        }
      ],
      "source": [
        "# Check what is the avg char length\n",
        "char_lens = [len(i) for i in train_chars]\n",
        "output_seq_char_lens = int(np.percentile(char_lens, 95))\n",
        "np.mean(char_lens), output_seq_char_lens, max(char_lens)"
      ]
    },
    {
      "cell_type": "code",
      "execution_count": 38,
      "metadata": {
        "colab": {
          "base_uri": "https://localhost:8080/",
          "height": 517
        },
        "id": "4PgqvheFYba5",
        "outputId": "226c5831-5186-4e41-c1cd-af78d9616045"
      },
      "outputs": [
        {
          "data": {
            "text/plain": [
              "(array([113423.,  18211.,   5997.,   2362.,   1063.,    669.,    510.,\n",
              "           437.,    360.,    581.]),\n",
              " array([  11. , 1009.8, 2008.6, 3007.4, 4006.2, 5005. , 6003.8, 7002.6,\n",
              "        8001.4, 9000.2, 9999. ]),\n",
              " <BarContainer object of 10 artists>)"
            ]
          },
          "execution_count": 38,
          "metadata": {},
          "output_type": "execute_result"
        },
        {
          "data": {
            "image/png": "[encoded data removed]",
            "text/plain": [
              "<Figure size 640x480 with 1 Axes>"
            ]
          },
          "metadata": {},
          "output_type": "display_data"
        }
      ],
      "source": [
        "# Check distribution of our sequences at char-lvl\n",
        "plt.hist(char_lens, bins=10)"
      ]
    },
    {
      "cell_type": "markdown",
      "metadata": {
        "id": "ng8bsYMXYvX6"
      },
      "source": [
        "### 3.4.3 Create Tokenization Layer"
      ]
    },
    {
      "cell_type": "code",
      "execution_count": 39,
      "metadata": {
        "colab": {
          "base_uri": "https://localhost:8080/",
          "height": 35
        },
        "id": "dIWaeQo0YhY6",
        "outputId": "63659ba4-021d-461a-b9bb-9e856d98f9bb"
      },
      "outputs": [
        {
          "data": {
            "text/plain": [
              "'abcdefghijklmnopqrstuvwxyz0123456789!\"#$%&\\'()*+,-./:;<=>?@[\\\\]^_`{|}~'"
            ]
          },
          "execution_count": 39,
          "metadata": {},
          "output_type": "execute_result"
        }
      ],
      "source": [
        "# Get all keyboard chars for char-lvl embeddings\n",
        "import string\n",
        "alphabet = string.ascii_lowercase + string.digits + string.punctuation\n",
        "alphabet"
      ]
    },
    {
      "cell_type": "code",
      "execution_count": 55,
      "metadata": {
        "id": "14Dj1L6HZE4w"
      },
      "outputs": [],
      "source": [
        "# Create char-lvl token vectorizer instance\n",
        "NUM_CHAR_TOKENS = len(alphabet) + 2 # Space + OOV\n",
        "char_vectorizer = TextVectorization(max_tokens=NUM_CHAR_TOKENS,\n",
        "                                    output_sequence_length=output_seq_char_lens,\n",
        "                                    standardize='lower_and_strip_punctuation',\n",
        "                                    output_mode='int',\n",
        "                                    name='char_vectorizer')"
      ]
    },
    {
      "cell_type": "code",
      "execution_count": 56,
      "metadata": {},
      "outputs": [],
      "source": [
        "# Adapt char vectorizer to train_chars\n",
        "char_vectorizer.adapt(train_chars)"
      ]
    },
    {
      "cell_type": "code",
      "execution_count": 58,
      "metadata": {
        "id": "guEWpzTdZv3S"
      },
      "outputs": [
        {
          "name": "stdout",
          "output_type": "stream",
          "text": [
            "Number of different characters in character vocab: 70\n",
            "5 Most common characters: ['', '[UNK]', 'e', 't', 'a']\n",
            "5 Least common characters: ['ı', 'α', 'т', 'ä', 'с']\n"
          ]
        }
      ],
      "source": [
        "# Check vocab characteristics\n",
        "char_vocab = char_vectorizer.get_vocabulary()\n",
        "print(f\"Number of different characters in character vocab: {len(char_vocab)}\")\n",
        "print(f\"5 Most common characters: {char_vocab[:5]}\")\n",
        "print(f\"5 Least common characters: {char_vocab[-5:]}\")"
      ]
    },
    {
      "cell_type": "code",
      "execution_count": 61,
      "metadata": {
        "id": "Fedod7nXaRF8"
      },
      "outputs": [
        {
          "name": "stdout",
          "output_type": "stream",
          "text": [
            "Charified text:\n",
            "I d i o c r a c y   \n",
            " \n",
            " I f   y o u   n e e d   a   1 3   s e c t i o n   F A Q   t o   j u s t i f y   y o u r   i d i o c y   t h e n   i t   i s   c l e a r   y o u r   b i a s   v i e w p o i n t   i s   w r o n g ,   r e n a m e   t h e   a r t i c l e   t o   M E G A   D R I V E   a n d   s t o p   b e i n g   i d i o t s . . . . 8 2 . 4 1 . 1 0 7 . 9 7     \n",
            " \n",
            " P l e a s e   d o   n o t   r e m o v e   m y   i n p u t   a g a i n . . .   i t   v i o l a t e s   W P : P R E S E R V E   W P : V A N D A L I S M   a n d   W P : N O T C E N S O R E D   a l s o   p l e a s e   s t o p   b e i n g   i d i o t   A m e r i c a n s   a n d   o f f e n d i n g   t h e   r e s t   o f   t h e   w o r l d   w i t h   y o u r   b a c k w a r d ,   b i a s e d   a n d   d i s t o r t e d   v i e w s   w h i c h   y o u   t r y   t o   f o r c e   u p o n   i s   l i k e   t h i s   a r t i c l e s   t i t l e 8 2 . 4 1 . 1 0 7 . 9 7\n",
            "\n",
            "Length of random_train_chars: 390\n",
            "\n",
            "Vectorized chars:\n",
            "[[ 5 12  5 ...  0  0  0]]\n",
            "\n",
            "Length of vectorized_chars: 2711\n"
          ]
        }
      ],
      "source": [
        "# Test out char_vect\n",
        "random_train_chars = random.choice(train_chars)\n",
        "print(f\"Charified text:\\n{random_train_chars}\")\n",
        "print(f\"\\nLength of random_train_chars: {len(random_train_chars.split())}\")\n",
        "vectorized_chars = char_vectorizer([random_train_chars])\n",
        "print(f\"\\nVectorized chars:\\n{vectorized_chars}\")\n",
        "print(f\"\\nLength of vectorized_chars: {len(vectorized_chars[0])}\")"
      ]
    },
    {
      "cell_type": "markdown",
      "metadata": {
        "id": "aUm_vdb7agFa"
      },
      "source": [
        "### 3.4.4 Char-lvl Embedding"
      ]
    },
    {
      "cell_type": "code",
      "execution_count": 50,
      "metadata": {
        "id": "L1UQErmfaiPk"
      },
      "outputs": [
        {
          "data": {
            "text/plain": [
              "<keras.src.layers.core.embedding.Embedding at 0x16eac5e8340>"
            ]
          },
          "execution_count": 50,
          "metadata": {},
          "output_type": "execute_result"
        }
      ],
      "source": [
        "tf.random.set_seed(42)\n",
        "char_embed = layers.Embedding(input_dim=NUM_CHAR_TOKENS,\n",
        "                              output_dim=128,\n",
        "                              embeddings_initializer='uniform',\n",
        "                              input_length=output_seq_char_lens,\n",
        "                              name='embedding_1')\n",
        "char_embed"
      ]
    },
    {
      "cell_type": "code",
      "execution_count": 62,
      "metadata": {},
      "outputs": [
        {
          "name": "stdout",
          "output_type": "stream",
          "text": [
            "Ori: \"\n",
            "\n",
            "==WP Delinking Dates==\n",
            "\n",
            "Congratulations on being one of the most destuctrive forces on Wikipedia. Your campaign to delink dates ensures that scores of children won't be at all concerned about history. \"      \n",
            "\n",
            "Embedded:\n"
          ]
        },
        {
          "data": {
            "text/plain": [
              "<tf.Tensor: shape=(1, 2711, 128), dtype=float32, numpy=\n",
              "array([[[ 0.03357713, -0.00152319, -0.02870076, ..., -0.04505892,\n",
              "         -0.0170892 ,  0.04813454],\n",
              "        [ 0.03357713, -0.00152319, -0.02870076, ..., -0.04505892,\n",
              "         -0.0170892 ,  0.04813454],\n",
              "        [ 0.03357713, -0.00152319, -0.02870076, ..., -0.04505892,\n",
              "         -0.0170892 ,  0.04813454],\n",
              "        ...,\n",
              "        [-0.01648936,  0.03550879,  0.0495749 , ...,  0.04656985,\n",
              "          0.04111593,  0.04639396],\n",
              "        [-0.01648936,  0.03550879,  0.0495749 , ...,  0.04656985,\n",
              "          0.04111593,  0.04639396],\n",
              "        [-0.01648936,  0.03550879,  0.0495749 , ...,  0.04656985,\n",
              "          0.04111593,  0.04639396]]], dtype=float32)>"
            ]
          },
          "execution_count": 62,
          "metadata": {},
          "output_type": "execute_result"
        }
      ],
      "source": [
        "# Get a random sentence from training set\n",
        "print(f\"Ori: {random_comment}\\\n",
        "      \\n\\nEmbedded:\")\n",
        "\n",
        "sample_embed = char_embed(char_vectorizer([random_comment]))\n",
        "sample_embed"
      ]
    },
    {
      "cell_type": "markdown",
      "metadata": {},
      "source": [
        "### 3.4.5 Build Conv1D Model"
      ]
    },
    {
      "cell_type": "code",
      "execution_count": 64,
      "metadata": {},
      "outputs": [
        {
          "name": "stdout",
          "output_type": "stream",
          "text": [
            "Model: \"model_2_Conv1D\"\n",
            "_________________________________________________________________\n",
            " Layer (type)                Output Shape              Param #   \n",
            "=================================================================\n",
            " input_2 (InputLayer)        [(None, 1)]               0         \n",
            "                                                                 \n",
            " char_vectorizer (TextVecto  (None, 2711)              0         \n",
            " rization)                                                       \n",
            "                                                                 \n",
            " embedding_1 (Embedding)     (None, 2711, 128)         8960      \n",
            "                                                                 \n",
            " conv1d_1 (Conv1D)           (None, 2711, 64)          41024     \n",
            "                                                                 \n",
            " global_max_pooling1d_1 (Gl  (None, 64)                0         \n",
            " obalMaxPooling1D)                                               \n",
            "                                                                 \n",
            " dense_1 (Dense)             (None, 6)                 390       \n",
            "                                                                 \n",
            "=================================================================\n",
            "Total params: 50374 (196.77 KB)\n",
            "Trainable params: 50374 (196.77 KB)\n",
            "Non-trainable params: 0 (0.00 Byte)\n",
            "_________________________________________________________________\n"
          ]
        }
      ],
      "source": [
        "inputs = layers.Input(shape=(1,), dtype='string')\n",
        "x = char_embed(char_vectorizer(inputs))\n",
        "x = layers.Conv1D(64, kernel_size=5, padding='same', activation='relu')(x)\n",
        "x = layers.GlobalMaxPool1D()(x)\n",
        "outputs = layers.Dense(6, activation='sigmoid')(x)\n",
        "\n",
        "model_2 = tf.keras.Model(inputs, outputs, name='model_2_Conv1D')\n",
        "\n",
        "model_2.compile(optimizer='adam',\n",
        "              loss='binary_crossentropy',\n",
        "              metrics=['accuracy'])\n",
        "\n",
        "model_2.summary()"
      ]
    },
    {
      "cell_type": "markdown",
      "metadata": {},
      "source": [
        "Label Encoding (One Target Column)\n",
        "- Use for multi-class classification\n",
        "- `Dense(num_classes, activation='softmax')`\n",
        "- Loss: `categorical` (For one-hot), or `sparse` (For label)\n",
        "\n",
        "Keep Columns Separated (Multiple Binary Targets)\n",
        "- Use for Multi-Label Classification\n",
        "- `Dense(num_classes, activation='sigmoid')`\n",
        "- Loss: `binary`|"
      ]
    },
    {
      "cell_type": "markdown",
      "metadata": {},
      "source": [
        "### 3.4.6 Create char-level batched `PrefetchDataset`"
      ]
    },
    {
      "cell_type": "code",
      "execution_count": 67,
      "metadata": {},
      "outputs": [
        {
          "data": {
            "text/plain": [
              "<_PrefetchDataset element_spec=(TensorSpec(shape=(None,), dtype=tf.string, name=None), TensorSpec(shape=(None, 6), dtype=tf.int64, name=None))>"
            ]
          },
          "execution_count": 67,
          "metadata": {},
          "output_type": "execute_result"
        }
      ],
      "source": [
        "train_char_dataset = tf.data.Dataset.from_tensor_slices((train_chars, train_labels)).batch(32).prefetch(tf.data.AUTOTUNE)\n",
        "val_char_dataset = tf.data.Dataset.from_tensor_slices((val_chars, val_labels)).batch(32).prefetch(tf.data.AUTOTUNE)\n",
        "\n",
        "train_char_dataset"
      ]
    },
    {
      "cell_type": "code",
      "execution_count": 69,
      "metadata": {},
      "outputs": [
        {
          "name": "stdout",
          "output_type": "stream",
          "text": [
            "Epoch 1/3\n",
            "448/448 [==============================] - 143s 319ms/step - loss: 0.0851 - accuracy: 0.9205 - val_loss: 0.0879 - val_accuracy: 0.8380\n",
            "Epoch 2/3\n",
            "448/448 [==============================] - 134s 299ms/step - loss: 0.0824 - accuracy: 0.9153 - val_loss: 0.0837 - val_accuracy: 0.8833\n",
            "Epoch 3/3\n",
            "448/448 [==============================] - 134s 300ms/step - loss: 0.0798 - accuracy: 0.9112 - val_loss: 0.0781 - val_accuracy: 0.8438\n"
          ]
        }
      ],
      "source": [
        "# Fit model on chars only\n",
        "model_2_history = model_2.fit(train_char_dataset,\n",
        "                              steps_per_epoch=int(0.1*len(train_char_dataset)),\n",
        "                              epochs=3,\n",
        "                              validation_data=val_char_dataset,\n",
        "                              validation_steps=int(0.1*len(val_char_dataset)))"
      ]
    },
    {
      "cell_type": "code",
      "execution_count": 70,
      "metadata": {},
      "outputs": [
        {
          "name": "stdout",
          "output_type": "stream",
          "text": [
            "499/499 [==============================] - 26s 52ms/step\n"
          ]
        },
        {
          "data": {
            "text/plain": [
              "array([[0.00316704, 0.00019774, 0.00107641, 0.00064655, 0.0025386 ,\n",
              "        0.00250135],\n",
              "       [0.0085618 , 0.00128876, 0.00452573, 0.00378456, 0.00585344,\n",
              "        0.00068364],\n",
              "       [0.02433012, 0.00080226, 0.01094374, 0.00090181, 0.00935942,\n",
              "        0.00699687],\n",
              "       ...,\n",
              "       [0.00464168, 0.00034234, 0.00628407, 0.00066191, 0.00433614,\n",
              "        0.00453767],\n",
              "       [0.00184888, 0.00037755, 0.00131398, 0.00038456, 0.00237037,\n",
              "        0.00182727],\n",
              "       [0.02075131, 0.00133719, 0.01656135, 0.00186973, 0.01031332,\n",
              "        0.00529115]], dtype=float32)"
            ]
          },
          "execution_count": 70,
          "metadata": {},
          "output_type": "execute_result"
        }
      ],
      "source": [
        "model_2_pred_probs = model_2.predict(val_char_dataset)\n",
        "model_2_pred_probs"
      ]
    },
    {
      "cell_type": "code",
      "execution_count": 71,
      "metadata": {},
      "outputs": [
        {
          "data": {
            "text/plain": [
              "<tf.Tensor: shape=(5,), dtype=int64, numpy=array([0, 0, 0, 0, 0], dtype=int64)>"
            ]
          },
          "execution_count": 71,
          "metadata": {},
          "output_type": "execute_result"
        }
      ],
      "source": [
        "model_2_preds = tf.argmax(model_2_pred_probs, axis=1)\n",
        "model_2_preds[:5]"
      ]
    },
    {
      "cell_type": "markdown",
      "metadata": {},
      "source": [
        "## 3.5: `Model_3` GRU"
      ]
    },
    {
      "cell_type": "markdown",
      "metadata": {},
      "source": [
        "### 3.5.1 Create embed and build model"
      ]
    },
    {
      "cell_type": "code",
      "execution_count": 23,
      "metadata": {},
      "outputs": [
        {
          "name": "stdout",
          "output_type": "stream",
          "text": [
            "Model: \"model_3_GRU\"\n",
            "_________________________________________________________________\n",
            " Layer (type)                Output Shape              Param #   \n",
            "=================================================================\n",
            " input_1 (InputLayer)        [(None, 1)]               0         \n",
            "                                                                 \n",
            " text_vectorization (TextVe  (None, 230)               0         \n",
            " ctorization)                                                    \n",
            "                                                                 \n",
            " embedding_GRU (Embedding)   (None, 230, 128)          1280000   \n",
            "                                                                 \n",
            " gru (GRU)                   (None, 230, 64)           37248     \n",
            "                                                                 \n",
            " gru_1 (GRU)                 (None, 64)                24960     \n",
            "                                                                 \n",
            " dense (Dense)               (None, 6)                 390       \n",
            "                                                                 \n",
            "=================================================================\n",
            "Total params: 1342598 (5.12 MB)\n",
            "Trainable params: 1342598 (5.12 MB)\n",
            "Non-trainable params: 0 (0.00 Byte)\n",
            "_________________________________________________________________\n"
          ]
        }
      ],
      "source": [
        "from tensorflow import keras\n",
        "from tensorflow.keras import layers\n",
        "from tensorflow.keras.layers import Embedding, GRU, Dense, Input\n",
        "from tensorflow.keras.models import Model\n",
        "\n",
        "tf.random.set_seed(42)\n",
        "\n",
        "num_words = 10000\n",
        "embedding_dim = 128\n",
        "max_seq_len = 100\n",
        "num_classes = 6\n",
        "\n",
        "model_3_embed = Embedding(input_dim=num_words,\n",
        "                                 output_dim=embedding_dim,\n",
        "                                 input_length=max_seq_len,\n",
        "                                 embeddings_initializer='uniform',\n",
        "                                 name='embedding_GRU')\n",
        "\n",
        "inputs = Input(shape=(1,), dtype='string')\n",
        "x = model_3_embed(text_vectorizer(inputs))\n",
        "x = GRU(64, return_sequences=True)(x)\n",
        "x = GRU(64)(x)\n",
        "outputs = Dense(num_classes, activation='sigmoid')(x)\n",
        "\n",
        "model_3 = Model(inputs, outputs, name='model_3_GRU')\n",
        "model_3.compile(optimizer='adam', \n",
        "              loss='binary_crossentropy', \n",
        "              metrics=['accuracy'])\n",
        "\n",
        "# Summary\n",
        "model_3.summary()"
      ]
    },
    {
      "cell_type": "markdown",
      "metadata": {},
      "source": [
        "### 3.5.2 Take 10% of the data to train"
      ]
    },
    {
      "cell_type": "code",
      "execution_count": 24,
      "metadata": {},
      "outputs": [
        {
          "name": "stdout",
          "output_type": "stream",
          "text": [
            "Total training examples: 143613\n",
            "Length of 10% training examples: 14362\n"
          ]
        }
      ],
      "source": [
        "train_comment_90, train_comment_10, train_labels_90, train_labels_10 = train_test_split(np.array(train_comment),\n",
        "                                                                                        train_labels,\n",
        "                                                                                        test_size=0.1,\n",
        "                                                                                        random_state=42)\n",
        "\n",
        "print(f\"Total training examples: {len(train_comment)}\")\n",
        "print(f\"Length of 10% training examples: {len(train_comment_10)}\")"
      ]
    },
    {
      "cell_type": "markdown",
      "metadata": {},
      "source": [
        "### 3.5.3 Train the model"
      ]
    },
    {
      "cell_type": "code",
      "execution_count": 25,
      "metadata": {},
      "outputs": [
        {
          "name": "stdout",
          "output_type": "stream",
          "text": [
            "Saving TensorBoard log files to: model_logs/model_3_GRU/20240912-222923\n",
            "Epoch 1/5\n",
            "449/449 [==============================] - 148s 319ms/step - loss: 0.1533 - accuracy: 0.9925 - val_loss: 0.1430 - val_accuracy: 0.9937\n",
            "Epoch 2/5\n",
            "449/449 [==============================] - 128s 284ms/step - loss: 0.1395 - accuracy: 0.9949 - val_loss: 0.1428 - val_accuracy: 0.9937\n",
            "Epoch 3/5\n",
            "449/449 [==============================] - 128s 286ms/step - loss: 0.1396 - accuracy: 0.9949 - val_loss: 0.1428 - val_accuracy: 0.9936\n",
            "Epoch 4/5\n",
            "449/449 [==============================] - 147s 328ms/step - loss: 0.1260 - accuracy: 0.9790 - val_loss: 0.0778 - val_accuracy: 0.9935\n",
            "Epoch 5/5\n",
            "449/449 [==============================] - 179s 398ms/step - loss: 0.0606 - accuracy: 0.9951 - val_loss: 0.0662 - val_accuracy: 0.9937\n"
          ]
        }
      ],
      "source": [
        "model_3_history = model_3.fit(train_comment_10, train_labels_10,\n",
        "                              epochs=5,\n",
        "                              validation_data=(val_comment, val_labels),\n",
        "                              callbacks=[create_tensorboard_callback(SAVE_DIR, 'model_3_GRU')])"
      ]
    },
    {
      "cell_type": "markdown",
      "metadata": {},
      "source": [
        "Since the GRU Model is that good, we can train on full dataset"
      ]
    },
    {
      "cell_type": "code",
      "execution_count": 84,
      "metadata": {},
      "outputs": [
        {
          "name": "stdout",
          "output_type": "stream",
          "text": [
            "Saving TensorBoard log files to: model_logs/model_3_GRU_full/20240912-140544\n",
            "Epoch 1/5\n",
            "4488/4488 [==============================] - 933s 208ms/step - loss: 0.0510 - accuracy: 0.9927 - val_loss: 0.0519 - val_accuracy: 0.9924\n",
            "Epoch 2/5\n",
            "4488/4488 [==============================] - 790s 176ms/step - loss: 0.0438 - accuracy: 0.9926 - val_loss: 0.0480 - val_accuracy: 0.9883\n",
            "Epoch 3/5\n",
            "4488/4488 [==============================] - 789s 176ms/step - loss: 0.0386 - accuracy: 0.9882 - val_loss: 0.0501 - val_accuracy: 0.9905\n",
            "Epoch 4/5\n",
            "4488/4488 [==============================] - 782s 174ms/step - loss: 0.0339 - accuracy: 0.9625 - val_loss: 0.0527 - val_accuracy: 0.8987\n",
            "Epoch 5/5\n",
            "4488/4488 [==============================] - 784s 175ms/step - loss: 0.0295 - accuracy: 0.9076 - val_loss: 0.0560 - val_accuracy: 0.9783\n"
          ]
        }
      ],
      "source": [
        "model_3_full_history = model_3.fit(train_comment, train_labels,\n",
        "                                   epochs=5,\n",
        "                                   validation_data=(val_comment, val_labels),\n",
        "                                   callbacks=[create_tensorboard_callback(SAVE_DIR, 'model_3_GRU_full')])"
      ]
    },
    {
      "cell_type": "markdown",
      "metadata": {},
      "source": [
        "## Save Model"
      ]
    },
    {
      "cell_type": "code",
      "execution_count": 26,
      "metadata": {},
      "outputs": [
        {
          "name": "stdout",
          "output_type": "stream",
          "text": [
            "INFO:tensorflow:Assets written to: model_3_SavedModel_format\\assets\n"
          ]
        },
        {
          "name": "stderr",
          "output_type": "stream",
          "text": [
            "INFO:tensorflow:Assets written to: model_3_SavedModel_format\\assets\n"
          ]
        }
      ],
      "source": [
        "model_3.save(\"model_3_SavedModel_format\")"
      ]
    },
    {
      "cell_type": "markdown",
      "metadata": {},
      "source": [
        "### 4. Generate Predictions on `test_df`"
      ]
    },
    {
      "cell_type": "markdown",
      "metadata": {},
      "source": [
        "### 4.1 Load Model"
      ]
    },
    {
      "cell_type": "code",
      "execution_count": 14,
      "metadata": {},
      "outputs": [],
      "source": [
        "import tensorflow as tf\n",
        "from tensorflow import keras\n",
        "loaded_model = tf.keras.models.load_model(\"model_3_SavedModel_format\")"
      ]
    },
    {
      "cell_type": "code",
      "execution_count": 11,
      "metadata": {},
      "outputs": [
        {
          "name": "stdout",
          "output_type": "stream",
          "text": [
            "499/499 [==============================] - 22s 43ms/step - loss: 0.0662 - accuracy: 0.9937\n"
          ]
        },
        {
          "data": {
            "text/plain": [
              "[0.06620540469884872, 0.9936708807945251]"
            ]
          },
          "execution_count": 11,
          "metadata": {},
          "output_type": "execute_result"
        }
      ],
      "source": [
        "loaded_model.evaluate(val_comment, val_labels)"
      ]
    },
    {
      "cell_type": "markdown",
      "metadata": {},
      "source": [
        "### 4.2 Re-structure `test.csv` and `test_labels.csv` to generate predictions"
      ]
    },
    {
      "cell_type": "markdown",
      "metadata": {},
      "source": [
        "#### 4.2.1 Check files top 5 samples"
      ]
    },
    {
      "cell_type": "code",
      "execution_count": 8,
      "metadata": {},
      "outputs": [],
      "source": [
        "import pandas as pd\n",
        "test = pd.read_csv('test.csv')\n",
        "test_labels = pd.read_csv('test_labels.csv')\n",
        "\n",
        "train_df = pd.read_csv('train.csv')\n",
        "train_df_shuffled = train_df.sample(frac=1, random_state=42)\n",
        "\n",
        "from sklearn.model_selection import train_test_split\n",
        "train_comment, val_comment, train_labels, val_labels = train_test_split(train_df_shuffled['comment_text'].to_numpy(),\n",
        "                                                                        train_df_shuffled.drop(['id', 'comment_text'], axis=1).to_numpy(),\n",
        "                                                                        test_size=0.1,\n",
        "                                                                        random_state=42)"
      ]
    },
    {
      "cell_type": "code",
      "execution_count": 9,
      "metadata": {},
      "outputs": [
        {
          "name": "stdout",
          "output_type": "stream",
          "text": [
            "'test.csv' file:                  id                                       comment_text\n",
            "0  00001cee341fdb12  Yo bitch Ja Rule is more succesful then you'll...\n",
            "1  0000247867823ef7  == From RfC == \\n\\n The title is fine as it is...\n",
            "\n",
            "'test_labels.csv' file:                  id  toxic  severe_toxic  obscene  threat  insult  \\\n",
            "0  00001cee341fdb12     -1            -1       -1      -1      -1   \n",
            "1  0000247867823ef7     -1            -1       -1      -1      -1   \n",
            "\n",
            "   identity_hate  \n",
            "0             -1  \n",
            "1             -1  \n",
            "\n",
            "'val_comment' dataframe: ['September 2006\\nThank you for experimenting with the page Construction on Wikipedia. Your test worked, and it has been reverted or removed. Please use the sandbox for any other tests you want to do. Take a look at the welcome page if you would like to learn more about contributing to our encyclopedia.'\n",
            " \"Thank you. I'm on the link-deletion now.\"]\n",
            "\n",
            "'val_labels' dataframe: [[0 0 0 0 0 0]\n",
            " [0 0 0 0 0 0]]\n"
          ]
        }
      ],
      "source": [
        "print(f\"'test.csv' file: {test[:2]}\")\n",
        "print(f\"\\n'test_labels.csv' file: {test_labels[:2]}\")\n",
        "print(f\"\\n'val_comment' dataframe: {val_comment[:2]}\")\n",
        "print(f\"\\n'val_labels' dataframe: {val_labels[:2]}\")"
      ]
    },
    {
      "cell_type": "markdown",
      "metadata": {},
      "source": [
        "#### 4.2.2 Make sure `test` & `test_labels` are in the same format as `val_comment` and `val_labels`"
      ]
    },
    {
      "cell_type": "code",
      "execution_count": 13,
      "metadata": {},
      "outputs": [
        {
          "name": "stdout",
          "output_type": "stream",
          "text": [
            "'test_comment' array: ['Thank you for understanding. I think very highly of you and would not revert without discussion.'\n",
            " ':Dear god this site is horrible.']\n",
            "\n",
            "'test_labels_final' array: [[0 0 0 0 0 0]\n",
            " [0 0 0 0 0 0]]\n",
            "\n",
            "'val_comment' dataframe: ['September 2006\\nThank you for experimenting with the page Construction on Wikipedia. Your test worked, and it has been reverted or removed. Please use the sandbox for any other tests you want to do. Take a look at the welcome page if you would like to learn more about contributing to our encyclopedia.'\n",
            " \"Thank you. I'm on the link-deletion now.\"]\n",
            "\n",
            "'val_labels' dataframe: [[0 0 0 0 0 0]\n",
            " [0 0 0 0 0 0]]\n"
          ]
        }
      ],
      "source": [
        "# Filter out rows with invalid labels (-1 in any column) from `test_labels`\n",
        "test_labels_clean = test_labels[test_labels.iloc[:, 1:].min(axis=1) != -1]\n",
        "\n",
        "# Merge test with test_labels_clean on `id` to ensure alignment\n",
        "test_clean = pd.merge(test, test_labels_clean, on='id')\n",
        "\n",
        "# Extract test comments (equivalent to val_comment)\n",
        "test_comment = test_clean['comment_text'].to_numpy()\n",
        "\n",
        "# Extract test labels (same as val_labels) and drop cols 'id' and other\n",
        "test_labels_final = test_clean.drop(['id', 'comment_text'], axis=1).to_numpy()\n",
        "\n",
        "# Check output\n",
        "print(f\"'test_comment' array: {test_comment[:2]}\")\n",
        "print(f\"\\n'test_labels_final' array: {test_labels_final[:2]}\")\n",
        "print(f\"\\n'val_comment' dataframe: {val_comment[:2]}\")\n",
        "print(f\"\\n'val_labels' dataframe: {val_labels[:2]}\")\n"
      ]
    },
    {
      "cell_type": "markdown",
      "metadata": {},
      "source": [
        "### 4.3 Generate Predictions on test files"
      ]
    },
    {
      "cell_type": "code",
      "execution_count": 15,
      "metadata": {},
      "outputs": [
        {
          "name": "stdout",
          "output_type": "stream",
          "text": [
            "2000/2000 [==============================] - 111s 55ms/step - loss: 0.0758 - accuracy: 0.9976\n"
          ]
        },
        {
          "data": {
            "text/plain": [
              "[0.07576501369476318, 0.9975929260253906]"
            ]
          },
          "execution_count": 15,
          "metadata": {},
          "output_type": "execute_result"
        }
      ],
      "source": [
        "loaded_model.evaluate(test_comment, test_labels_final)"
      ]
    },
    {
      "cell_type": "code",
      "execution_count": 16,
      "metadata": {},
      "outputs": [
        {
          "name": "stdout",
          "output_type": "stream",
          "text": [
            "2000/2000 [==============================] - 86s 42ms/step\n"
          ]
        }
      ],
      "source": [
        "test_predictions_prob = loaded_model.predict(test_comment)\n",
        "\n",
        "test_predictions = (test_predictions_prob > 0.5).astype(int)"
      ]
    },
    {
      "cell_type": "code",
      "execution_count": 17,
      "metadata": {},
      "outputs": [
        {
          "name": "stdout",
          "output_type": "stream",
          "text": [
            "[[0 0 0 0 0 0]\n",
            " [0 0 0 0 0 0]\n",
            " [0 0 0 0 0 0]\n",
            " [0 0 0 0 0 0]\n",
            " [0 0 0 0 0 0]]\n"
          ]
        }
      ],
      "source": [
        "print(test_predictions[:5])"
      ]
    },
    {
      "cell_type": "markdown",
      "metadata": {},
      "source": [
        "### 4.4 Print Classification Report"
      ]
    },
    {
      "cell_type": "code",
      "execution_count": 25,
      "metadata": {},
      "outputs": [
        {
          "name": "stdout",
          "output_type": "stream",
          "text": [
            "              precision    recall  f1-score   support\n",
            "\n",
            "           0       0.70      0.61      0.65      6090\n",
            "           1       0.41      0.08      0.13       367\n",
            "           2       0.75      0.55      0.64      3691\n",
            "           3       0.00      0.00      0.00       211\n",
            "           4       0.66      0.47      0.55      3427\n",
            "           5       0.00      0.00      0.00       712\n",
            "\n",
            "   micro avg       0.70      0.51      0.59     14498\n",
            "   macro avg       0.42      0.29      0.33     14498\n",
            "weighted avg       0.65      0.51      0.57     14498\n",
            " samples avg       0.05      0.05      0.05     14498\n",
            "\n"
          ]
        },
        {
          "name": "stderr",
          "output_type": "stream",
          "text": [
            "c:\\Users\\ILLEGEAR\\anaconda3\\envs\\py3900\\lib\\site-packages\\sklearn\\metrics\\_classification.py:1531: UndefinedMetricWarning: Precision is ill-defined and being set to 0.0 in labels with no predicted samples. Use `zero_division` parameter to control this behavior.\n",
            "  _warn_prf(average, modifier, f\"{metric.capitalize()} is\", len(result))\n",
            "c:\\Users\\ILLEGEAR\\anaconda3\\envs\\py3900\\lib\\site-packages\\sklearn\\metrics\\_classification.py:1531: UndefinedMetricWarning: Precision is ill-defined and being set to 0.0 in samples with no predicted labels. Use `zero_division` parameter to control this behavior.\n",
            "  _warn_prf(average, modifier, f\"{metric.capitalize()} is\", len(result))\n",
            "c:\\Users\\ILLEGEAR\\anaconda3\\envs\\py3900\\lib\\site-packages\\sklearn\\metrics\\_classification.py:1531: UndefinedMetricWarning: Recall is ill-defined and being set to 0.0 in samples with no true labels. Use `zero_division` parameter to control this behavior.\n",
            "  _warn_prf(average, modifier, f\"{metric.capitalize()} is\", len(result))\n",
            "c:\\Users\\ILLEGEAR\\anaconda3\\envs\\py3900\\lib\\site-packages\\sklearn\\metrics\\_classification.py:1531: UndefinedMetricWarning: F-score is ill-defined and being set to 0.0 in samples with no true nor predicted labels. Use `zero_division` parameter to control this behavior.\n",
            "  _warn_prf(average, modifier, f\"{metric.capitalize()} is\", len(result))\n"
          ]
        }
      ],
      "source": [
        "from sklearn.metrics import classification_report\n",
        "print(classification_report(test_labels_final, test_predictions))"
      ]
    },
    {
      "cell_type": "markdown",
      "metadata": {},
      "source": [
        "### 4.5 Save into `submission.csv`"
      ]
    },
    {
      "cell_type": "code",
      "execution_count": 23,
      "metadata": {},
      "outputs": [
        {
          "data": {
            "text/plain": [
              "(63978, 6)"
            ]
          },
          "execution_count": 23,
          "metadata": {},
          "output_type": "execute_result"
        }
      ],
      "source": [
        "test_predictions.shape"
      ]
    },
    {
      "cell_type": "code",
      "execution_count": 26,
      "metadata": {},
      "outputs": [],
      "source": [
        "# Convert predictions to a DataFrame with appropriate column names\n",
        "test_predictions_df = pd.DataFrame(\n",
        "    test_predictions, \n",
        "    columns=['toxic', 'severe_toxic', 'obscene', 'threat', 'insult', 'identity_hate']\n",
        ")\n",
        "\n",
        "# Combine the 'id' column from the test DataFrame with the predictions DataFrame\n",
        "submission_df = pd.concat([test['id'], test_predictions_df], axis=1)"
      ]
    },
    {
      "cell_type": "code",
      "execution_count": 27,
      "metadata": {},
      "outputs": [],
      "source": [
        "# Save the DataFrame to CSV\n",
        "submission_df.to_csv('predictions.csv', index=False)"
      ]
    }
  ],
  "metadata": {
    "accelerator": "GPU",
    "colab": {
      "collapsed_sections": [
        "e4i71VCFS18c",
        "wpvvSOipTNF3"
      ],
      "gpuType": "T4",
      "provenance": []
    },
    "kernelspec": {
      "display_name": "py3900",
      "language": "python",
      "name": "python3"
    },
    "language_info": {
      "codemirror_mode": {
        "name": "ipython",
        "version": 3
      },
      "file_extension": ".py",
      "mimetype": "text/x-python",
      "name": "python",
      "nbconvert_exporter": "python",
      "pygments_lexer": "ipython3",
      "version": "3.9.19"
    }
  },
  "nbformat": 4,
  "nbformat_minor": 0
}
